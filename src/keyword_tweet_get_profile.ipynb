{
 "cells": [
  {
   "cell_type": "code",
   "execution_count": 1,
   "metadata": {},
   "outputs": [
    {
     "name": "stdout",
     "output_type": "stream",
     "text": [
      "/Users/yurikohashizume/dev/19/tweet/engineer_tweet_classification/src/.env\n",
      "DUOC5QAZ4gjZMdwWObIicZr8U\n"
     ]
    }
   ],
   "source": [
    "import settings\n",
    "import tweepy\n",
    "import argparse\n",
    "import time\n",
    "\n",
    "import get_tweets\n",
    "\n",
    "import re"
   ]
  },
  {
   "cell_type": "code",
   "execution_count": 2,
   "metadata": {},
   "outputs": [],
   "source": [
    "parser = argparse.ArgumentParser()\n",
    "parser.add_argument('-u', '--user_name', action = 'store')\n",
    "parser.add_argument('-o','--output_path', action = 'store')\n",
    "args = parser.parse_args(args=['-o','../data/ki_oku'])\n",
    "username = args.user_name\n",
    "output_file = args.output_path"
   ]
  },
  {
   "cell_type": "code",
   "execution_count": 13,
   "metadata": {},
   "outputs": [],
   "source": [
    "def get_tweet_page_all_search_user(acountname, num,key):\n",
    "    consumer_key    = settings.CK\n",
    "    consumer_secret = settings.CS\n",
    "    access_key      = settings.AK\n",
    "    access_secret   = settings.AS\n",
    "\n",
    "    auth = tweepy.OAuthHandler(consumer_key, consumer_secret)\n",
    "    auth.set_access_token(access_key, access_secret)\n",
    "    api = tweepy.API(auth)\n",
    "\n",
    "    pages = [1,2,3,4,5,6,7,8,9,10,11,12,13,14,15,16,17]\n",
    "    #pages = [1,2,3,4,5]\n",
    "\n",
    "\n",
    "    tweets = api.search(q=key,count=200)\n",
    "    taskname = key\n",
    "    #get_tweets.tweet_save_text(tweets,username,output_file)\n",
    "    #get_tweets.tweet_save_data(tweets,username,output_file)\n",
    "    name =[]\n",
    "    #name = get_tweets.tweet_save_user(tweets,username,output_file)\n",
    "    name = tweet_save_user_nomal(tweets,output_file,taskname)\n",
    "    #print(name)\n",
    "    next_max_id = tweets[-1].id\n",
    "    for i in range(2,1200):\n",
    "    #for i in range(2,10):\n",
    "        tweets = api.search(q=key,count=200,max_id=next_max_id-1)\n",
    "        next_max_id = tweets[-1].id\n",
    "        taskname = key\n",
    "        #get_tweets.tweet_save_text(tweets,username,output_file)\n",
    "        #get_tweets.tweet_save_data(tweets,username,output_file)\n",
    "        name = tweet_save_user_nomal(tweets,output_file,taskname)\n",
    "        #print(name)\n",
    "        time.sleep(8)\n",
    "\n",
    "    return tweets"
   ]
  },
  {
   "cell_type": "code",
   "execution_count": 14,
   "metadata": {},
   "outputs": [],
   "source": [
    "def tweet_save_user_nomal(tweets,filepath,task):\n",
    "    user = []\n",
    "    with open(filepath + \"/tweet_user_\"  + task + \".txt\",\"a\") as f:\n",
    "        for tweet in tweets:\n",
    "            sentence = tweet.author\n",
    "            f.write(str(sentence.screen_name))\n",
    "            f.write(\"\\n\")\n",
    "            user.append(str(sentence.screen_name))\n",
    "    return user"
   ]
  },
  {
   "cell_type": "markdown",
   "metadata": {},
   "source": [
    "## 特定のことばを含んだツイートをしている人のユーザー名を取得"
   ]
  },
  {
   "cell_type": "code",
   "execution_count": 16,
   "metadata": {},
   "outputs": [
    {
     "ename": "IndexError",
     "evalue": "list index out of range",
     "output_type": "error",
     "traceback": [
      "\u001b[0;31m---------------------------------------------------------------------------\u001b[0m",
      "\u001b[0;31mIndexError\u001b[0m                                Traceback (most recent call last)",
      "\u001b[0;32m<ipython-input-16-caeada17520a>\u001b[0m in \u001b[0;36m<module>\u001b[0;34m\u001b[0m\n\u001b[1;32m      3\u001b[0m \u001b[0;34m\u001b[0m\u001b[0m\n\u001b[1;32m      4\u001b[0m \u001b[0;32mfor\u001b[0m \u001b[0mk\u001b[0m \u001b[0;32min\u001b[0m \u001b[0mrandom_w\u001b[0m\u001b[0;34m:\u001b[0m\u001b[0;34m\u001b[0m\u001b[0;34m\u001b[0m\u001b[0m\n\u001b[0;32m----> 5\u001b[0;31m     \u001b[0mget_tweet_page_all_search_user\u001b[0m\u001b[0;34m(\u001b[0m\u001b[0;34m'runnlp'\u001b[0m\u001b[0;34m,\u001b[0m\u001b[0;36m3000\u001b[0m\u001b[0;34m,\u001b[0m\u001b[0mk\u001b[0m\u001b[0;34m)\u001b[0m\u001b[0;34m\u001b[0m\u001b[0;34m\u001b[0m\u001b[0m\n\u001b[0m",
      "\u001b[0;32m<ipython-input-13-fbdc4c5b0f75>\u001b[0m in \u001b[0;36mget_tweet_page_all_search_user\u001b[0;34m(acountname, num, key)\u001b[0m\n\u001b[1;32m     25\u001b[0m     \u001b[0;31m#for i in range(2,10):\u001b[0m\u001b[0;34m\u001b[0m\u001b[0;34m\u001b[0m\u001b[0;34m\u001b[0m\u001b[0m\n\u001b[1;32m     26\u001b[0m         \u001b[0mtweets\u001b[0m \u001b[0;34m=\u001b[0m \u001b[0mapi\u001b[0m\u001b[0;34m.\u001b[0m\u001b[0msearch\u001b[0m\u001b[0;34m(\u001b[0m\u001b[0mq\u001b[0m\u001b[0;34m=\u001b[0m\u001b[0mkey\u001b[0m\u001b[0;34m,\u001b[0m\u001b[0mcount\u001b[0m\u001b[0;34m=\u001b[0m\u001b[0;36m200\u001b[0m\u001b[0;34m,\u001b[0m\u001b[0mmax_id\u001b[0m\u001b[0;34m=\u001b[0m\u001b[0mnext_max_id\u001b[0m\u001b[0;34m-\u001b[0m\u001b[0;36m1\u001b[0m\u001b[0;34m)\u001b[0m\u001b[0;34m\u001b[0m\u001b[0;34m\u001b[0m\u001b[0m\n\u001b[0;32m---> 27\u001b[0;31m         \u001b[0mnext_max_id\u001b[0m \u001b[0;34m=\u001b[0m \u001b[0mtweets\u001b[0m\u001b[0;34m[\u001b[0m\u001b[0;34m-\u001b[0m\u001b[0;36m1\u001b[0m\u001b[0;34m]\u001b[0m\u001b[0;34m.\u001b[0m\u001b[0mid\u001b[0m\u001b[0;34m\u001b[0m\u001b[0;34m\u001b[0m\u001b[0m\n\u001b[0m\u001b[1;32m     28\u001b[0m         \u001b[0mtaskname\u001b[0m \u001b[0;34m=\u001b[0m \u001b[0mkey\u001b[0m\u001b[0;34m\u001b[0m\u001b[0;34m\u001b[0m\u001b[0m\n\u001b[1;32m     29\u001b[0m         \u001b[0;31m#get_tweets.tweet_save_text(tweets,username,output_file)\u001b[0m\u001b[0;34m\u001b[0m\u001b[0;34m\u001b[0m\u001b[0;34m\u001b[0m\u001b[0m\n",
      "\u001b[0;31mIndexError\u001b[0m: list index out of range"
     ]
    }
   ],
   "source": [
    "\n",
    "random_w = ['ことば']\n",
    "\n",
    "for k in random_w:\n",
    "    get_tweet_page_all_search_user('runnlp',3000,k)"
   ]
  },
  {
   "cell_type": "code",
   "execution_count": null,
   "metadata": {},
   "outputs": [],
   "source": []
  }
 ],
 "metadata": {
  "kernelspec": {
   "display_name": "Python 3",
   "language": "python",
   "name": "python3"
  }
 },
 "nbformat": 4,
 "nbformat_minor": 2
}
