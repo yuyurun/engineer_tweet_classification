{
 "cells": [
  {
   "cell_type": "code",
   "execution_count": 1,
   "metadata": {},
   "outputs": [
    {
     "name": "stdout",
     "output_type": "stream",
     "text": [
      "/Users/yurikohashizume/dev/19/tweet/engineer_tweet_classification/src/.env\n",
      "DUOC5QAZ4gjZMdwWObIicZr8U\n"
     ]
    }
   ],
   "source": [
    "import settings\n",
    "import tweepy\n",
    "import argparse\n",
    "import time\n",
    "\n",
    "import pandas as pd\n",
    "\n",
    "import get_tweets\n",
    "\n",
    "import re\n",
    "import os"
   ]
  },
  {
   "cell_type": "code",
   "execution_count": 2,
   "metadata": {},
   "outputs": [],
   "source": [
    "parser = argparse.ArgumentParser()\n",
    "parser.add_argument('-u', '--user_name', action = 'store')\n",
    "parser.add_argument('-o','--output_path', action = 'store')\n",
    "args = parser.parse_args(args=['-o','../data/ki_oku/tweet/'])\n",
    "username = args.user_name\n",
    "output_file = args.output_path"
   ]
  },
  {
   "cell_type": "code",
   "execution_count": 3,
   "metadata": {},
   "outputs": [],
   "source": [
    "def get_user_tweet(acountname, num):\n",
    "    '''\n",
    "    accountname : str , username\n",
    "    num : int , get tweet num\n",
    "    特定のユーザーのタイムラインのツイート取得.ツイート数指定．\n",
    "    \n",
    "    '''\n",
    "    consumer_key    = settings.CK\n",
    "    consumer_secret = settings.CS\n",
    "    access_key      = settings.AK\n",
    "    access_secret   = settings.AS\n",
    "    \n",
    "    all_tweets = []\n",
    "\n",
    "    auth = tweepy.OAuthHandler(consumer_key, consumer_secret)\n",
    "    auth.set_access_token(access_key, access_secret)\n",
    "    api = tweepy.API(auth)\n",
    "\n",
    "    #pages = [1,2,3,4,5,6,7,8,9,10,11,12,13,14,15,16,17]\n",
    "    \n",
    "    pages = num//200\n",
    "    \n",
    "    for page in range(pages):\n",
    "        tweets = api.user_timeline(acountname, count=200, page=page)\n",
    "\n",
    "        #tweet_save_text(tweets,username,output_file)\n",
    "        #tweet_save_data(tweets,username,output_file)\n",
    "        all_tweets = all_tweets+tweets\n",
    "\n",
    "    return all_tweets"
   ]
  },
  {
   "cell_type": "code",
   "execution_count": 24,
   "metadata": {},
   "outputs": [
    {
     "name": "stdout",
     "output_type": "stream",
     "text": [
      "2\n",
      "0\n",
      "1\n"
     ]
    }
   ],
   "source": [
    "tweets = get_user_tweet('runnlp',400)"
   ]
  },
  {
   "cell_type": "code",
   "execution_count": 25,
   "metadata": {},
   "outputs": [
    {
     "data": {
      "text/plain": [
       "400"
      ]
     },
     "execution_count": 25,
     "metadata": {},
     "output_type": "execute_result"
    }
   ],
   "source": [
    "len(tweets)"
   ]
  },
  {
   "cell_type": "code",
   "execution_count": 11,
   "metadata": {},
   "outputs": [],
   "source": [
    "def file_user_get_tweet(fname,out_dir,num):\n",
    "    with open(fname) as f:\n",
    "        users = f.readlines()\n",
    "    all_texts = []\n",
    "    users = set(users)\n",
    "    users = [user.replace(\"\\n\",\"\")for user in users]\n",
    "    g_users = []\n",
    "    \n",
    "    for user in users:\n",
    "        # たぶん2秒かかる\n",
    "        print(user)\n",
    "        try:\n",
    "            tweets = get_user_tweet(user,num)\n",
    "            texts = [tweet.text.replace(\"\\r\",\"\").replace(\"\\n\",\"\") for tweet in tweets]\n",
    "            all_texts.append(' '.join(texts))\n",
    "            g_users.append(user)\n",
    "        except:\n",
    "            print('error  ::::::::  '+user+'is not exist')\n",
    "    df = pd.DataFrame({'user':g_users,'text':all_texts})\n",
    "    df.to_csv(out_dir+os.path.splitext(os.path.basename(fname))[0]+'.csv')\n",
    "    return df"
   ]
  },
  {
   "cell_type": "code",
   "execution_count": 93,
   "metadata": {},
   "outputs": [
    {
     "data": {
      "text/html": [
       "<div>\n",
       "<style scoped>\n",
       "    .dataframe tbody tr th:only-of-type {\n",
       "        vertical-align: middle;\n",
       "    }\n",
       "\n",
       "    .dataframe tbody tr th {\n",
       "        vertical-align: top;\n",
       "    }\n",
       "\n",
       "    .dataframe thead th {\n",
       "        text-align: right;\n",
       "    }\n",
       "</style>\n",
       "<table border=\"1\" class=\"dataframe\">\n",
       "  <thead>\n",
       "    <tr style=\"text-align: right;\">\n",
       "      <th></th>\n",
       "      <th>user</th>\n",
       "      <th>text</th>\n",
       "    </tr>\n",
       "  </thead>\n",
       "  <tbody>\n",
       "    <tr>\n",
       "      <th>0</th>\n",
       "      <td>yuyurun</td>\n",
       "      <td>また帰省がうしろに伸びてしまったたたたた富山帰りたい @chagahaaan おっきな会場の...</td>\n",
       "    </tr>\n",
       "    <tr>\n",
       "      <th>1</th>\n",
       "      <td>l1aas</td>\n",
       "      <td>このMV見るたびに泣いてる https://t.co/VFzeG5J9G8 UVERworl...</td>\n",
       "    </tr>\n",
       "    <tr>\n",
       "      <th>2</th>\n",
       "      <td>runnlp</td>\n",
       "      <td>@mikan_5678 お疲れ🍵わたしも会えて嬉しかった！！！お互い頑張ろ✊また勉強orごは...</td>\n",
       "    </tr>\n",
       "    <tr>\n",
       "      <th>3</th>\n",
       "      <td>ABURATANIKUN</td>\n",
       "      <td>@kikinecocafe21 ナムコとセガは筐体入れんだよ。あくしろよちなみに次に何が出き...</td>\n",
       "    </tr>\n",
       "  </tbody>\n",
       "</table>\n",
       "</div>"
      ],
      "text/plain": [
       "           user                                               text\n",
       "0       yuyurun  また帰省がうしろに伸びてしまったたたたた富山帰りたい @chagahaaan おっきな会場の...\n",
       "1         l1aas  このMV見るたびに泣いてる https://t.co/VFzeG5J9G8 UVERworl...\n",
       "2        runnlp  @mikan_5678 お疲れ🍵わたしも会えて嬉しかった！！！お互い頑張ろ✊また勉強orごは...\n",
       "3  ABURATANIKUN  @kikinecocafe21 ナムコとセガは筐体入れんだよ。あくしろよちなみに次に何が出き..."
      ]
     },
     "execution_count": 93,
     "metadata": {},
     "output_type": "execute_result"
    }
   ],
   "source": [
    "df_tweet[:10]"
   ]
  },
  {
   "cell_type": "code",
   "execution_count": 49,
   "metadata": {},
   "outputs": [],
   "source": [
    "s = df_tweet['text']"
   ]
  },
  {
   "cell_type": "code",
   "execution_count": 50,
   "metadata": {},
   "outputs": [
    {
     "data": {
      "text/plain": [
       "0    また帰省がうしろに伸びてしまったたたたた富山帰りたい @chagahaaan おっきな会場の...\n",
       "1    @mikan_5678 お疲れ🍵わたしも会えて嬉しかった！！！お互い頑張ろ✊また勉強orごは...\n",
       "Name: text, dtype: object"
      ]
     },
     "execution_count": 50,
     "metadata": {},
     "output_type": "execute_result"
    }
   ],
   "source": [
    "s.head()"
   ]
  },
  {
   "cell_type": "code",
   "execution_count": 28,
   "metadata": {},
   "outputs": [],
   "source": [
    "def tweet_text(tweets):     \n",
    "        texts = [tweet.text.replace(\"\\r\",\"\").replace(\"\\n\",\"\") for tweet in tweets]        \n",
    "        return texts"
   ]
  },
  {
   "cell_type": "code",
   "execution_count": 57,
   "metadata": {},
   "outputs": [
    {
     "name": "stdout",
     "output_type": "stream",
     "text": [
      "35137\n"
     ]
    }
   ],
   "source": [
    "    with open('../data/ki_oku/tweet_user_キズナアイ.txt') as f:\n",
    "        users = f.readlines()\n",
    "    all_texts = []\n",
    "    users = set(users)\n",
    "    print(len(users))"
   ]
  },
  {
   "cell_type": "code",
   "execution_count": null,
   "metadata": {},
   "outputs": [],
   "source": []
  }
 ],
 "metadata": {
  "kernelspec": {
   "display_name": "Python 3",
   "language": "python",
   "name": "python3"
  },
  "language_info": {
   "codemirror_mode": {
    "name": "ipython",
    "version": 3
   },
   "file_extension": ".py",
   "mimetype": "text/x-python",
   "name": "python",
   "nbconvert_exporter": "python",
   "pygments_lexer": "ipython3",
   "version": "3.7.4"
  }
 },
 "nbformat": 4,
 "nbformat_minor": 2
}
